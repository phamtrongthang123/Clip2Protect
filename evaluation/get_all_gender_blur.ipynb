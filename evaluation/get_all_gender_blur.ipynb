{
 "cells": [
  {
   "cell_type": "code",
   "execution_count": 1,
   "metadata": {},
   "outputs": [
    {
     "name": "stderr",
     "output_type": "stream",
     "text": [
      "2024-04-30 13:42:46.674679: I tensorflow/core/util/port.cc:110] oneDNN custom operations are on. You may see slightly different numerical results due to floating-point round-off errors from different computation orders. To turn them off, set the environment variable `TF_ENABLE_ONEDNN_OPTS=0`.\n",
      "2024-04-30 13:42:46.700002: I tensorflow/core/platform/cpu_feature_guard.cc:182] This TensorFlow binary is optimized to use available CPU instructions in performance-critical operations.\n",
      "To enable the following instructions: AVX2 AVX_VNNI FMA, in other operations, rebuild TensorFlow with the appropriate compiler flags.\n",
      "2024-04-30 13:42:47.058763: W tensorflow/compiler/tf2tensorrt/utils/py_utils.cc:38] TF-TRT Warning: Could not find TensorRT\n"
     ]
    }
   ],
   "source": [
    "from deepface import DeepFace\n",
    "\n",
    "def get_gender(img_path, shorten=True):\n",
    "    result = DeepFace.analyze(img_path = img_path,\n",
    "        actions = ['gender']\n",
    "    )\n",
    "    if not shorten:\n",
    "        return result\n",
    "    else:\n",
    "        return result[0]['dominant_gender']"
   ]
  },
  {
   "cell_type": "code",
   "execution_count": 4,
   "metadata": {},
   "outputs": [
    {
     "name": "stderr",
     "output_type": "stream",
     "text": [
      "100%|██████████| 142/142 [00:00<00:00, 354.28it/s]\n",
      "  0%|          | 0/142 [00:00<?, ?it/s]2024-04-30 13:43:59.310295: I tensorflow/compiler/xla/stream_executor/cuda/cuda_gpu_executor.cc:995] successful NUMA node read from SysFS had negative value (-1), but there must be at least one NUMA node, so returning NUMA node zero. See more at https://github.com/torvalds/linux/blob/v6.0/Documentation/ABI/testing/sysfs-bus-pci#L344-L355\n",
      "2024-04-30 13:43:59.313417: W tensorflow/core/common_runtime/gpu/gpu_device.cc:1960] Cannot dlopen some GPU libraries. Please make sure the missing libraries mentioned above are installed properly if you would like to use GPU. Follow the guide at https://www.tensorflow.org/install/gpu for how to download and setup the required libraries for your platform.\n",
      "Skipping registering GPU devices...\n",
      "100%|██████████| 142/142 [00:23<00:00,  6.06it/s]"
     ]
    },
    {
     "name": "stdout",
     "output_type": "stream",
     "text": [
      "Accuracy: 0.6971830985915493\n"
     ]
    },
    {
     "name": "stderr",
     "output_type": "stream",
     "text": [
      "\n"
     ]
    }
   ],
   "source": [
    "from pathlib import Path \n",
    "from tqdm import tqdm\n",
    "import cv2  \n",
    "import os \n",
    "map_gender = {'man': 0, 'woman': 1}\n",
    "all_path = [str(x) for x in Path('/home/ptthang/UARK CLASS/privacy_face_protect/CelebA_HQ_face_gender_dataset_test_1000').glob('*/*.jpg')]\n",
    "saved_dir_blur = '/home/ptthang/UARK CLASS/privacy_face_protect/CelebA_HQ_face_gender_dataset_test_1000_blur'\n",
    "os.makedirs(saved_dir_blur, exist_ok=True)\n",
    "for path in tqdm(all_path):\n",
    "    try:\n",
    "        img = cv2.imread(path)\n",
    "        img = cv2.resize(img, (128, 128))\n",
    "        img = cv2.GaussianBlur(img, (25, 25), 0)\n",
    "        os.makedirs(saved_dir_blur + '/' + path.split('/')[-2], exist_ok=True)\n",
    "        cv2.imwrite(saved_dir_blur + '/' + path.split('/')[-2] + '/' + path.split('/')[-1], img)\n",
    "    except:\n",
    "        print('Error:', path)\n",
    "\n",
    "all_path = [str(x) for x in Path(saved_dir_blur).glob('*/*.jpg')]\n",
    "total = len(all_path)\n",
    "predictions = [] \n",
    "groundtruth = [] \n",
    "correct = 0\n",
    "failure = []\n",
    "for path in tqdm(all_path):\n",
    "    try:\n",
    "        gender = get_gender(path).lower()\n",
    "        predictions.append(map_gender[gender])\n",
    "        groundtruth.append(map_gender[path.split('/')[-2]])\n",
    "        if map_gender[gender] == map_gender[path.split('/')[-2]]:\n",
    "            correct += 1\n",
    "    except:\n",
    "        failure.append(path)\n",
    "print('Accuracy:', correct/total)"
   ]
  },
  {
   "cell_type": "code",
   "execution_count": null,
   "metadata": {},
   "outputs": [],
   "source": [
    "import os \n",
    "for f in failure:\n",
    "    os.remove(f)"
   ]
  },
  {
   "cell_type": "code",
   "execution_count": null,
   "metadata": {},
   "outputs": [
    {
     "data": {
      "text/plain": [
       "('man', 'man')"
      ]
     },
     "execution_count": 3,
     "metadata": {},
     "output_type": "execute_result"
    }
   ],
   "source": [
    "path.split('/')[-2], gender"
   ]
  },
  {
   "cell_type": "code",
   "execution_count": null,
   "metadata": {},
   "outputs": [],
   "source": []
  }
 ],
 "metadata": {
  "kernelspec": {
   "display_name": "Python 3",
   "language": "python",
   "name": "python3"
  },
  "language_info": {
   "codemirror_mode": {
    "name": "ipython",
    "version": 3
   },
   "file_extension": ".py",
   "mimetype": "text/x-python",
   "name": "python",
   "nbconvert_exporter": "python",
   "pygments_lexer": "ipython3",
   "version": "3.8.19"
  }
 },
 "nbformat": 4,
 "nbformat_minor": 2
}
