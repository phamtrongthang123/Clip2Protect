{
 "cells": [
  {
   "cell_type": "code",
   "execution_count": 5,
   "metadata": {},
   "outputs": [],
   "source": [
    "from deepface import DeepFace\n",
    "\n",
    "def get_gender(img_path, shorten=True):\n",
    "    result = DeepFace.analyze(img_path = img_path,\n",
    "        actions = ['gender']\n",
    "    )\n",
    "    if not shorten:\n",
    "        return result\n",
    "    else:\n",
    "        return result[0]['dominant_gender']"
   ]
  },
  {
   "cell_type": "code",
   "execution_count": 6,
   "metadata": {},
   "outputs": [
    {
     "name": "stderr",
     "output_type": "stream",
     "text": [
      "  0%|          | 0/142 [00:00<?, ?it/s]"
     ]
    },
    {
     "name": "stderr",
     "output_type": "stream",
     "text": [
      "100%|██████████| 142/142 [00:00<00:00, 447.33it/s]\n",
      "100%|██████████| 142/142 [00:23<00:00,  6.00it/s]"
     ]
    },
    {
     "name": "stdout",
     "output_type": "stream",
     "text": [
      "Accuracy: 0.6338028169014085\n"
     ]
    },
    {
     "name": "stderr",
     "output_type": "stream",
     "text": [
      "\n"
     ]
    }
   ],
   "source": [
    "from pathlib import Path \n",
    "from tqdm import tqdm\n",
    "import cv2  \n",
    "import os \n",
    "map_gender = {'man': 0, 'woman': 1}\n",
    "all_path = [str(x) for x in Path('/home/ptthang/UARK CLASS/privacy_face_protect/CelebA_HQ_face_gender_dataset_test_1000').glob('*/*.jpg')]\n",
    "saved_dir_blur = '/home/ptthang/UARK CLASS/privacy_face_protect/CelebA_HQ_face_gender_dataset_test_1000_pixelate'\n",
    "os.makedirs(saved_dir_blur, exist_ok=True)\n",
    "for path in tqdm(all_path):\n",
    "    try:\n",
    "        img = cv2.imread(path)\n",
    "        img = cv2.resize(img, (128, 128))\n",
    "        img = cv2.resize(img, (24, 24), interpolation=cv2.INTER_LINEAR)\n",
    "        img = cv2.resize(img, (128, 128), interpolation=cv2.INTER_NEAREST)\n",
    "        os.makedirs(saved_dir_blur + '/' + path.split('/')[-2], exist_ok=True)\n",
    "        cv2.imwrite(saved_dir_blur + '/' + path.split('/')[-2] + '/' + path.split('/')[-1], img)\n",
    "    except:\n",
    "        print('Error:', path)\n",
    "\n",
    "all_path = [str(x) for x in Path(saved_dir_blur).glob('*/*.jpg')]\n",
    "total = len(all_path)\n",
    "predictions = [] \n",
    "groundtruth = [] \n",
    "correct = 0\n",
    "failure = []\n",
    "for path in tqdm(all_path):\n",
    "    try:\n",
    "        gender = get_gender(path).lower()\n",
    "        predictions.append(map_gender[gender])\n",
    "        groundtruth.append(map_gender[path.split('/')[-2]])\n",
    "        if map_gender[gender] == map_gender[path.split('/')[-2]]:\n",
    "            correct += 1\n",
    "    except:\n",
    "        failure.append(path)\n",
    "print('Accuracy:', correct/total)"
   ]
  },
  {
   "cell_type": "code",
   "execution_count": 7,
   "metadata": {},
   "outputs": [],
   "source": [
    "import os \n",
    "for f in failure:\n",
    "    os.remove(f)"
   ]
  },
  {
   "cell_type": "code",
   "execution_count": 8,
   "metadata": {},
   "outputs": [
    {
     "data": {
      "text/plain": [
       "('man', 'man')"
      ]
     },
     "execution_count": 8,
     "metadata": {},
     "output_type": "execute_result"
    }
   ],
   "source": [
    "path.split('/')[-2], gender"
   ]
  },
  {
   "cell_type": "code",
   "execution_count": null,
   "metadata": {},
   "outputs": [],
   "source": []
  }
 ],
 "metadata": {
  "kernelspec": {
   "display_name": "Python 3",
   "language": "python",
   "name": "python3"
  },
  "language_info": {
   "codemirror_mode": {
    "name": "ipython",
    "version": 3
   },
   "file_extension": ".py",
   "mimetype": "text/x-python",
   "name": "python",
   "nbconvert_exporter": "python",
   "pygments_lexer": "ipython3",
   "version": "3.8.19"
  }
 },
 "nbformat": 4,
 "nbformat_minor": 2
}
