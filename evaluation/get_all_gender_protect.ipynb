{
 "cells": [
  {
   "cell_type": "code",
   "execution_count": 1,
   "metadata": {},
   "outputs": [
    {
     "name": "stderr",
     "output_type": "stream",
     "text": [
      "2024-04-30 14:30:00.866648: I tensorflow/core/util/port.cc:110] oneDNN custom operations are on. You may see slightly different numerical results due to floating-point round-off errors from different computation orders. To turn them off, set the environment variable `TF_ENABLE_ONEDNN_OPTS=0`.\n",
      "2024-04-30 14:30:00.896796: I tensorflow/core/platform/cpu_feature_guard.cc:182] This TensorFlow binary is optimized to use available CPU instructions in performance-critical operations.\n",
      "To enable the following instructions: AVX2 AVX_VNNI FMA, in other operations, rebuild TensorFlow with the appropriate compiler flags.\n",
      "2024-04-30 14:30:01.283692: W tensorflow/compiler/tf2tensorrt/utils/py_utils.cc:38] TF-TRT Warning: Could not find TensorRT\n"
     ]
    }
   ],
   "source": [
    "from deepface import DeepFace\n",
    "\n",
    "def get_gender(img_path, shorten=True):\n",
    "    result = DeepFace.analyze(img_path = img_path,\n",
    "        actions = ['gender']\n",
    "    )\n",
    "    if not shorten:\n",
    "        return result\n",
    "    else:\n",
    "        return result[0]['dominant_gender']"
   ]
  },
  {
   "cell_type": "code",
   "execution_count": 6,
   "metadata": {},
   "outputs": [
    {
     "name": "stderr",
     "output_type": "stream",
     "text": [
      "100%|██████████| 6/6 [00:01<00:00,  4.28it/s]"
     ]
    },
    {
     "name": "stdout",
     "output_type": "stream",
     "text": [
      "Accuracy: 0.8333333333333334\n"
     ]
    },
    {
     "name": "stderr",
     "output_type": "stream",
     "text": [
      "\n"
     ]
    }
   ],
   "source": [
    "from pathlib import Path \n",
    "from tqdm import tqdm \n",
    "map_gender = {'man': 0, 'woman': 1}\n",
    "all_path = [str(x) for x in Path('/home/ptthang/UARK CLASS/privacy_face_protect/CelebA_HQ_face_gender_dataset_test_1000_new').glob('*/*.jpg')]\n",
    "total = len(all_path)\n",
    "predictions = [] \n",
    "groundtruth = [] \n",
    "correct = 0\n",
    "failure = []\n",
    "for path in tqdm(all_path):\n",
    "    try:\n",
    "        gender = get_gender(path).lower()\n",
    "        predictions.append(map_gender[gender])\n",
    "        groundtruth.append(map_gender[path.split('/')[-2]])\n",
    "        if map_gender[gender] == map_gender[path.split('/')[-2]]:\n",
    "            correct += 1\n",
    "    except:\n",
    "        failure.append(path)\n",
    "print('Accuracy:', correct/total)"
   ]
  },
  {
   "cell_type": "code",
   "execution_count": 3,
   "metadata": {},
   "outputs": [],
   "source": [
    "import os \n",
    "for f in failure:\n",
    "    os.remove(f)"
   ]
  },
  {
   "cell_type": "code",
   "execution_count": 4,
   "metadata": {},
   "outputs": [
    {
     "data": {
      "text/plain": [
       "('man', 'man')"
      ]
     },
     "execution_count": 4,
     "metadata": {},
     "output_type": "execute_result"
    }
   ],
   "source": [
    "path.split('/')[-2], gender"
   ]
  },
  {
   "cell_type": "code",
   "execution_count": null,
   "metadata": {},
   "outputs": [],
   "source": []
  }
 ],
 "metadata": {
  "kernelspec": {
   "display_name": "Python 3",
   "language": "python",
   "name": "python3"
  },
  "language_info": {
   "codemirror_mode": {
    "name": "ipython",
    "version": 3
   },
   "file_extension": ".py",
   "mimetype": "text/x-python",
   "name": "python",
   "nbconvert_exporter": "python",
   "pygments_lexer": "ipython3",
   "version": "3.8.19"
  }
 },
 "nbformat": 4,
 "nbformat_minor": 2
}
