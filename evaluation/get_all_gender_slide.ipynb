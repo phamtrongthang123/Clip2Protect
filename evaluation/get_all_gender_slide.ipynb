{
 "cells": [
  {
   "cell_type": "code",
   "execution_count": 1,
   "metadata": {},
   "outputs": [
    {
     "name": "stderr",
     "output_type": "stream",
     "text": [
      "2024-04-30 15:20:20.430228: I tensorflow/core/util/port.cc:110] oneDNN custom operations are on. You may see slightly different numerical results due to floating-point round-off errors from different computation orders. To turn them off, set the environment variable `TF_ENABLE_ONEDNN_OPTS=0`.\n",
      "2024-04-30 15:20:20.455760: I tensorflow/core/platform/cpu_feature_guard.cc:182] This TensorFlow binary is optimized to use available CPU instructions in performance-critical operations.\n",
      "To enable the following instructions: AVX2 AVX_VNNI FMA, in other operations, rebuild TensorFlow with the appropriate compiler flags.\n",
      "2024-04-30 15:20:20.816736: W tensorflow/compiler/tf2tensorrt/utils/py_utils.cc:38] TF-TRT Warning: Could not find TensorRT\n"
     ]
    }
   ],
   "source": [
    "from deepface import DeepFace\n",
    "\n",
    "def get_gender(img_path, shorten=True):\n",
    "    result = DeepFace.analyze(img_path = img_path,\n",
    "        actions = ['gender']\n",
    "    )\n",
    "    if not shorten:\n",
    "        return result\n",
    "    else:\n",
    "        return result[0]['dominant_gender']"
   ]
  },
  {
   "cell_type": "code",
   "execution_count": 6,
   "metadata": {},
   "outputs": [
    {
     "name": "stdout",
     "output_type": "stream",
     "text": [
      "/home/ptthang/UARK CLASS/privacy_face_protect/Images from dataset/Images from dataset_new/0_Picture3.jpg_00049.jpg ********** woman\n",
      "/home/ptthang/UARK CLASS/privacy_face_protect/Images from dataset/Images from dataset_new/0_Picture8.jpg_00049.jpg ********** man\n",
      "/home/ptthang/UARK CLASS/privacy_face_protect/Images from dataset/Images from dataset_new/0_Picture9.jpg_00049.jpg ********** woman\n",
      "/home/ptthang/UARK CLASS/privacy_face_protect/Images from dataset/Images from dataset_new/0_Picture7.jpg_00049.jpg ********** man\n",
      "/home/ptthang/UARK CLASS/privacy_face_protect/Images from dataset/Images from dataset_new/0_Picture4.jpg_00049.jpg ********** man\n",
      "/home/ptthang/UARK CLASS/privacy_face_protect/Images from dataset/Images from dataset_new/0_Picture5.jpg_00049.jpg error\n",
      "/home/ptthang/UARK CLASS/privacy_face_protect/Images from dataset/Images from dataset_new/0_Picture6.jpg_00049.jpg ********** man\n",
      "/home/ptthang/UARK CLASS/privacy_face_protect/Images from dataset/Images from dataset_new/0_Picture1.jpg_00049.jpg ********** woman\n"
     ]
    }
   ],
   "source": [
    "from pathlib import Path \n",
    "from tqdm import tqdm \n",
    "map_gender = {'man': 0, 'woman': 1}\n",
    "all_path = [str(x) for x in Path('/home/ptthang/UARK CLASS/privacy_face_protect/Images from dataset/Images from dataset_new').glob('*.jpg')]\n",
    "total = len(all_path)\n",
    "for path in all_path:\n",
    "    try:\n",
    "        gender = get_gender(path).lower()\n",
    "        print(path, \"*\"*10, gender)\n",
    "    except:\n",
    "        print(path, \"error\")"
   ]
  },
  {
   "cell_type": "code",
   "execution_count": 3,
   "metadata": {},
   "outputs": [
    {
     "ename": "NameError",
     "evalue": "name 'failure' is not defined",
     "output_type": "error",
     "traceback": [
      "\u001b[0;31m---------------------------------------------------------------------------\u001b[0m",
      "\u001b[0;31mNameError\u001b[0m                                 Traceback (most recent call last)",
      "Cell \u001b[0;32mIn[3], line 2\u001b[0m\n\u001b[1;32m      1\u001b[0m \u001b[38;5;28;01mimport\u001b[39;00m \u001b[38;5;21;01mos\u001b[39;00m \n\u001b[0;32m----> 2\u001b[0m \u001b[38;5;28;01mfor\u001b[39;00m f \u001b[38;5;129;01min\u001b[39;00m \u001b[43mfailure\u001b[49m:\n\u001b[1;32m      3\u001b[0m     os\u001b[38;5;241m.\u001b[39mremove(f)\n",
      "\u001b[0;31mNameError\u001b[0m: name 'failure' is not defined"
     ]
    }
   ],
   "source": [
    "import os \n",
    "for f in failure:\n",
    "    os.remove(f)"
   ]
  },
  {
   "cell_type": "code",
   "execution_count": null,
   "metadata": {},
   "outputs": [
    {
     "data": {
      "text/plain": [
       "('man', 'man')"
      ]
     },
     "execution_count": 3,
     "metadata": {},
     "output_type": "execute_result"
    }
   ],
   "source": [
    "path.split('/')[-2], gender"
   ]
  },
  {
   "cell_type": "code",
   "execution_count": null,
   "metadata": {},
   "outputs": [],
   "source": []
  }
 ],
 "metadata": {
  "kernelspec": {
   "display_name": "Python 3",
   "language": "python",
   "name": "python3"
  },
  "language_info": {
   "codemirror_mode": {
    "name": "ipython",
    "version": 3
   },
   "file_extension": ".py",
   "mimetype": "text/x-python",
   "name": "python",
   "nbconvert_exporter": "python",
   "pygments_lexer": "ipython3",
   "version": "3.8.19"
  }
 },
 "nbformat": 4,
 "nbformat_minor": 2
}
